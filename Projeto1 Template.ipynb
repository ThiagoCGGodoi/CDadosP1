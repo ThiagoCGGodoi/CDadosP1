{
 "cells": [
  {
   "cell_type": "markdown",
   "metadata": {},
   "source": [
    "# Projeto 1 - Ciência dos Dados"
   ]
  },
  {
   "cell_type": "markdown",
   "metadata": {},
   "source": [
    "Nome: Arthur Santos Pansini\n",
    "\n",
    "Nome: Guilherme Galvão Guedes\n",
    "\n",
    "Nome: Thiago Colobriali Gomes Godoi"
   ]
  },
  {
   "cell_type": "markdown",
   "metadata": {},
   "source": [
    "Atenção: Serão permitidos grupos de três pessoas, mas com uma rubrica mais exigente. Grupos deste tamanho precisarão fazer um questionário de avaliação de trabalho em equipe"
   ]
  },
  {
   "cell_type": "markdown",
   "metadata": {},
   "source": [
    "___\n",
    "Carregando algumas bibliotecas:"
   ]
  },
  {
   "cell_type": "code",
   "execution_count": 153,
   "metadata": {},
   "outputs": [
    {
     "name": "stderr",
     "output_type": "stream",
     "text": [
      "[nltk_data] Downloading package punkt to\n",
      "[nltk_data]     C:\\Users\\thiag\\AppData\\Roaming\\nltk_data...\n",
      "[nltk_data]   Package punkt is already up-to-date!\n"
     ]
    }
   ],
   "source": [
    "%matplotlib inline\n",
    "import pandas as pd\n",
    "import matplotlib.pyplot as plt\n",
    "import numpy as np\n",
    "import os\n",
    "from unidecode import unidecode\n",
    "import seaborn as sns\n",
    "import re \n",
    "import nltk\n",
    "from nltk.stem import PorterStemmer\n",
    "\n",
    "# Baixe os recursos necessários (você só precisa fazer isso uma vez)\n",
    "nltk.download('punkt')\n",
    "\n",
    "# Inicialize o stemmer (usaremos o Porter Stemmer neste exemplo)\n",
    "stemmer = PorterStemmer()\n",
    "\n",
    "def cleanup(text):\n",
    "    \"\"\"\n",
    "        Função de limpeza muito simples que troca alguns sinais básicos por espaços\n",
    "    \"\"\"\n",
    "    #import string\n",
    "    punctuation = '[´\"!-.:?;$'']' # Note que os sinais [] são delimitadores de um conjunto.\n",
    "    pattern = re.compile(punctuation)\n",
    "    text_subbed = re.sub(pattern, '', text)\n",
    "    return text_subbed.lower()\n",
    "\n",
    "def stopwords(text):\n",
    "    words=['a','as','o','os','ante','apos','entre','em','ate','com','para','por','perante','da','do','é','que','no','na','nas'',nos','de','deste','desta','uma','e','uns','umas','seu','sua','seus','suas', 'livro' ,'gostei', 'não', 'autor', 'autora', 'achei', 'parei', 'ler', 'esta', 'pedido', 'obra', 'volume', 'serie', '2', '1','3','4','5','6','7','8','9','0', '20', '300','55', '90', '400', '32', '24', 'x', 'cm', '1967', 'se', '11','10','ja','26','3700','247','27','r','linkhttps//youtube/ejq9kvvuw0y','sensacional\"','4941','3990','2x','--','15','500','/','1917','30','<a','class=alinknormal','datahook=productlinklinked','href=/caixaharrypotteredicaopremiumexclusivaamazon/dp/8532505708>caixa','140','11/12','256','100','1790','=/','1300','170','190','899','2014','1511','10','2411','0712','22','2a','34','xix','us999','r9000','s/a','4a','2015','r2100']\n",
    "    texto_f=''\n",
    "    for palavra in text.split():\n",
    "        if palavra not in words:\n",
    "            texto_f+=' ' + palavra\n",
    "    \n",
    "    return texto_f"
   ]
  },
  {
   "cell_type": "code",
   "execution_count": 154,
   "metadata": {
    "scrolled": false
   },
   "outputs": [
    {
     "name": "stdout",
     "output_type": "stream",
     "text": [
      "Esperamos trabalhar no diretório\n",
      "c:\\Users\\thiag\\OneDrive\\Documentos\\Insper\\2023.2\\CDados\\Projeto1\\CDadosP1\n"
     ]
    }
   ],
   "source": [
    "print('Esperamos trabalhar no diretório')\n",
    "print(os.getcwd())"
   ]
  },
  {
   "cell_type": "markdown",
   "metadata": {},
   "source": [
    "Carregando a base de dados com os tweets classificados manualmente:"
   ]
  },
  {
   "cell_type": "code",
   "execution_count": 155,
   "metadata": {},
   "outputs": [
    {
     "data": {
      "text/html": [
       "<div>\n",
       "<style scoped>\n",
       "    .dataframe tbody tr th:only-of-type {\n",
       "        vertical-align: middle;\n",
       "    }\n",
       "\n",
       "    .dataframe tbody tr th {\n",
       "        vertical-align: top;\n",
       "    }\n",
       "\n",
       "    .dataframe thead th {\n",
       "        text-align: right;\n",
       "    }\n",
       "</style>\n",
       "<table border=\"1\" class=\"dataframe\">\n",
       "  <thead>\n",
       "    <tr style=\"text-align: right;\">\n",
       "      <th></th>\n",
       "      <th>0</th>\n",
       "    </tr>\n",
       "  </thead>\n",
       "  <tbody>\n",
       "    <tr>\n",
       "      <th>0</th>\n",
       "      <td>Concordo com outras avaliações feitas, entre o...</td>\n",
       "    </tr>\n",
       "    <tr>\n",
       "      <th>1</th>\n",
       "      <td>Que história chata! Personagens chatos, diálog...</td>\n",
       "    </tr>\n",
       "    <tr>\n",
       "      <th>2</th>\n",
       "      <td>A estória podia ter fim no primeiro livro, des...</td>\n",
       "    </tr>\n",
       "    <tr>\n",
       "      <th>3</th>\n",
       "      <td>Muito narrativo, não prende atenção, tive apre...</td>\n",
       "    </tr>\n",
       "    <tr>\n",
       "      <th>4</th>\n",
       "      <td>Olá, Recebi uma notificação por email que não ...</td>\n",
       "    </tr>\n",
       "  </tbody>\n",
       "</table>\n",
       "</div>"
      ],
      "text/plain": [
       "                                                   0\n",
       "0  Concordo com outras avaliações feitas, entre o...\n",
       "1  Que história chata! Personagens chatos, diálog...\n",
       "2  A estória podia ter fim no primeiro livro, des...\n",
       "3  Muito narrativo, não prende atenção, tive apre...\n",
       "4  Olá, Recebi uma notificação por email que não ..."
      ]
     },
     "execution_count": 155,
     "metadata": {},
     "output_type": "execute_result"
    }
   ],
   "source": [
    "filename = pd.read_excel('dados.xlsx')\n",
    "filename.head(5)"
   ]
  },
  {
   "cell_type": "code",
   "execution_count": 156,
   "metadata": {},
   "outputs": [
    {
     "data": {
      "text/html": [
       "<div>\n",
       "<style scoped>\n",
       "    .dataframe tbody tr th:only-of-type {\n",
       "        vertical-align: middle;\n",
       "    }\n",
       "\n",
       "    .dataframe tbody tr th {\n",
       "        vertical-align: top;\n",
       "    }\n",
       "\n",
       "    .dataframe thead th {\n",
       "        text-align: right;\n",
       "    }\n",
       "</style>\n",
       "<table border=\"1\" class=\"dataframe\">\n",
       "  <thead>\n",
       "    <tr style=\"text-align: right;\">\n",
       "      <th></th>\n",
       "      <th>Mensagem</th>\n",
       "      <th>target</th>\n",
       "      <th>Legenda</th>\n",
       "    </tr>\n",
       "  </thead>\n",
       "  <tbody>\n",
       "    <tr>\n",
       "      <th>0</th>\n",
       "      <td>Achei muito merchandising e pouco conteúdo prá...</td>\n",
       "      <td>2.0</td>\n",
       "      <td>1 = critica construtiva ao livro</td>\n",
       "    </tr>\n",
       "    <tr>\n",
       "      <th>1</th>\n",
       "      <td>Não é o primeiro livro da Record que oxida em ...</td>\n",
       "      <td>2.0</td>\n",
       "      <td>2 = critica construtiva a edição/pltaforma</td>\n",
       "    </tr>\n",
       "    <tr>\n",
       "      <th>2</th>\n",
       "      <td>Estava com saudades de todos os personagens, m...</td>\n",
       "      <td>1.0</td>\n",
       "      <td>0 = nenhum dos dois</td>\n",
       "    </tr>\n",
       "    <tr>\n",
       "      <th>3</th>\n",
       "      <td>Perdeu toda credibilidade, se realmente fosse ...</td>\n",
       "      <td>1.0</td>\n",
       "      <td>NaN</td>\n",
       "    </tr>\n",
       "    <tr>\n",
       "      <th>4</th>\n",
       "      <td>Ainda vou ler.</td>\n",
       "      <td>0.0</td>\n",
       "      <td>NaN</td>\n",
       "    </tr>\n",
       "  </tbody>\n",
       "</table>\n",
       "</div>"
      ],
      "text/plain": [
       "                                            Mensagem  target  \\\n",
       "0  Achei muito merchandising e pouco conteúdo prá...     2.0   \n",
       "1  Não é o primeiro livro da Record que oxida em ...     2.0   \n",
       "2  Estava com saudades de todos os personagens, m...     1.0   \n",
       "3  Perdeu toda credibilidade, se realmente fosse ...     1.0   \n",
       "4                                     Ainda vou ler.     0.0   \n",
       "\n",
       "                                      Legenda  \n",
       "0            1 = critica construtiva ao livro  \n",
       "1  2 = critica construtiva a edição/pltaforma  \n",
       "2                         0 = nenhum dos dois  \n",
       "3                                         NaN  \n",
       "4                                         NaN  "
      ]
     },
     "execution_count": 156,
     "metadata": {},
     "output_type": "execute_result"
    }
   ],
   "source": [
    "train = pd.read_excel('dados_treino.xlsx')\n",
    "train.head(5)"
   ]
  },
  {
   "cell_type": "code",
   "execution_count": 157,
   "metadata": {},
   "outputs": [
    {
     "data": {
      "text/html": [
       "<div>\n",
       "<style scoped>\n",
       "    .dataframe tbody tr th:only-of-type {\n",
       "        vertical-align: middle;\n",
       "    }\n",
       "\n",
       "    .dataframe tbody tr th {\n",
       "        vertical-align: top;\n",
       "    }\n",
       "\n",
       "    .dataframe thead th {\n",
       "        text-align: right;\n",
       "    }\n",
       "</style>\n",
       "<table border=\"1\" class=\"dataframe\">\n",
       "  <thead>\n",
       "    <tr style=\"text-align: right;\">\n",
       "      <th></th>\n",
       "      <th>Mensagem</th>\n",
       "      <th>target</th>\n",
       "      <th>Legenda</th>\n",
       "    </tr>\n",
       "  </thead>\n",
       "  <tbody>\n",
       "    <tr>\n",
       "      <th>0</th>\n",
       "      <td>Não sou de desistir de livro, mas neste não te...</td>\n",
       "      <td>1</td>\n",
       "      <td>1 = critica construtiva ao livro</td>\n",
       "    </tr>\n",
       "    <tr>\n",
       "      <th>1</th>\n",
       "      <td>Por ser produto não do  meu interesse e recebi...</td>\n",
       "      <td>0</td>\n",
       "      <td>2 = critica construtiva a edição/plataforma</td>\n",
       "    </tr>\n",
       "    <tr>\n",
       "      <th>2</th>\n",
       "      <td>Livro de agradável leitura, bastante esclarece...</td>\n",
       "      <td>0</td>\n",
       "      <td>0 = nenhum dos dois</td>\n",
       "    </tr>\n",
       "    <tr>\n",
       "      <th>3</th>\n",
       "      <td>No dia que era para meu livro chegar recebo um...</td>\n",
       "      <td>2</td>\n",
       "      <td>NaN</td>\n",
       "    </tr>\n",
       "    <tr>\n",
       "      <th>4</th>\n",
       "      <td>Como pode uma editora aproveitar o sucesso do ...</td>\n",
       "      <td>2</td>\n",
       "      <td>NaN</td>\n",
       "    </tr>\n",
       "  </tbody>\n",
       "</table>\n",
       "</div>"
      ],
      "text/plain": [
       "                                            Mensagem  target  \\\n",
       "0  Não sou de desistir de livro, mas neste não te...       1   \n",
       "1  Por ser produto não do  meu interesse e recebi...       0   \n",
       "2  Livro de agradável leitura, bastante esclarece...       0   \n",
       "3  No dia que era para meu livro chegar recebo um...       2   \n",
       "4  Como pode uma editora aproveitar o sucesso do ...       2   \n",
       "\n",
       "                                       Legenda  \n",
       "0             1 = critica construtiva ao livro  \n",
       "1  2 = critica construtiva a edição/plataforma  \n",
       "2                          0 = nenhum dos dois  \n",
       "3                                          NaN  \n",
       "4                                          NaN  "
      ]
     },
     "execution_count": 157,
     "metadata": {},
     "output_type": "execute_result"
    }
   ],
   "source": [
    "test = pd.read_excel('dados_teste 1.xlsx')\n",
    "test.head(5) "
   ]
  },
  {
   "cell_type": "code",
   "execution_count": 158,
   "metadata": {},
   "outputs": [
    {
     "data": {
      "image/png": "[encoded data removed]",
      "text/plain": [
       "<Figure size 640x480 with 1 Axes>"
      ]
     },
     "metadata": {},
     "output_type": "display_data"
    }
   ],
   "source": [
    "a = train.value_counts(\"target\")\n",
    "\n",
    "labels = ['neutra','autor','plataforma']\n",
    "\n",
    "sizes = [a[0],a[1],a[2]]\n",
    "\n",
    "fig1, ax1 = plt.subplots()\n",
    "\n",
    "ax1.pie(sizes,labels = labels,autopct = '%1.1f%%',shadow = True, startangle = 90)\n",
    "\n",
    "ax1.axis('equal')\n",
    "\n",
    "plt.show()"
   ]
  },
  {
   "cell_type": "markdown",
   "metadata": {},
   "source": [
    "___\n",
    "## Classificador automático\n"
   ]
  },
  {
   "cell_type": "markdown",
   "metadata": {},
   "source": [
    "Faça aqui uma descrição do seu assunto e o que considerou como relevante ou não relevante na classificação dos tweets (Target).\n",
    "\n",
    "Nosso projeto considera as seguintes classificações: 1 = Crítica construtiva ao livro, 2 = Crítica construtiva à edição/plataforma e 0 = Nenhum dos dois. Com isso planejamos criar um sistema de identificação de reviews novas, baseando-se em probabilidades encontradas a partir da nossa base de dados."
   ]
  },
  {
   "cell_type": "markdown",
   "metadata": {},
   "source": [
    "___\n",
    "### Montando um Classificador Naive-Bayes\n",
    "\n",
    "Considerando apenas as mensagens da planilha Treinamento, ensine  seu classificador."
   ]
  },
  {
   "cell_type": "markdown",
   "metadata": {},
   "source": [
    "### PROBABILIDADES INICIAIS: \n",
    "#### Explicamos o trabalho a partir de dois eventos para ilustra a ideia utilizada e facilitar a compreensão.\n",
    "\n",
    "Utilizamos os seguintes conceitos inicias:\n",
    "Se chamarmos a e b de eventos em nosso conjunto universo denominado $\\Omega$, temos:\n",
    " \n",
    "$P(a) \\rightarrow$ Probabilidade do evento a ocorrer\n",
    " \n",
    "$P(a^c) \\rightarrow$ Probabilidade do evento a não ocorrer\n",
    " \n",
    "$P(b) \\rightarrow$ Probabilidade do evento b ocorrer\n",
    " \n",
    "$P(b^c) \\rightarrow$ Probabilidade do evento b não ocorrer\n",
    " \n",
    "$P(a \\cap b) \\rightarrow$ Probabilidade do evento a e b ocorrer\n",
    " \n",
    "$P(a|b) \\rightarrow$ Probabilidade do evento a ocorrer dado que b ocorreu\n",
    "\n",
    "\n",
    "Iremos começar calculando a probabilidade de palavras relevantes e irrelevantes aparecerem em nosso conjunto total:\n",
    "\n",
    "$$ P_{relevante}= \\frac{N° Palavras_{relevantes}}{N° Total_{palavras}} $$\n",
    "\n",
    "$$ P_{irrelevante}= \\frac{N° Palavras_{irrelevantes}}{N° Total_{palavras}} $$\n",
    "\n",
    "De acordo com a teoria complementar de conjuntos:\n",
    "\n",
    "$$ P_{relevante}+ P_{irrelevante}=1 $$\n",
    "\n",
    " Logo:\n",
    " \n",
    "$P(I)  \\ ou \\ P(R^c)\\rightarrow$ Probabilidade de uma frase ser irrelevante.\n",
    "\n",
    "$P(R) \\rightarrow $ Probabilidade de uma frase ser relevante.\n",
    "\n",
    "$P(comentário) \\rightarrow$ Probabilidade de determinada frase ocorrer.\n",
    "\n",
    "As probabilidade $P(R|frase)$ ou $P(frase|R)$ , podem ser interpretadas como uma probabilidade de \"peso\" em um novo conjunto total. Ou seja, nos exemplos dados anteriromente temos como novos conjuntos o conjunto frase e conjunto relevância, respectivamente.\n",
    "\n",
    "Vamos representar da seguinte forma a seguir \"Qual a probabilidade de encontrarmos elementos que pertencem ao conjunto a e b no conjunto b\"\n",
    "\n",
    "$$P(a|b) = \\frac{P(a \\cap b)}{P(b)}$$\n",
    "\n",
    "Ou seja:\n",
    "\n",
    "$$P(a|b) = \\frac{N° elementos(a \\cap b)}{N° elementos(b)}$$\n",
    "\n",
    "Portanto, vamos usar da mesma ideia, temos:\n",
    "\n",
    "$$ P(R|𝑓𝑟𝑎𝑠𝑒)= \\frac{P(𝑓𝑟𝑎𝑠𝑒 \\cap R)}{P(𝑓𝑟𝑎𝑠𝑒)} $$\n",
    "$$ P(𝑓𝑟𝑎𝑠𝑒|R)= \\frac{P(𝑓𝑟𝑎𝑠𝑒 \\cap R)}{P(R)} $$\n",
    "\n",
    "$$ P(I|𝑓𝑟𝑎𝑠𝑒)= \\frac{P(𝑓𝑟𝑎𝑠𝑒 \\cap I)}{P(𝑓𝑟𝑎𝑠𝑒)} $$\n",
    "$$ P(𝑓𝑟𝑎𝑠𝑒|I)= \\frac{P(𝑓𝑟𝑎𝑠𝑒 \\cap I)}{P(I)} $$\n",
    "\n",
    "\n",
    "Dessa forma, encontramos a probabilidade utilizada por Naive Bayes para classificar um texto como relevante ou não relevante:\n",
    "\n",
    "$$ P(R|𝑓𝑟𝑎𝑠𝑒)= \\frac{P(𝑓𝑟𝑎𝑠𝑒|R) P(R)}{P(𝑓𝑟𝑎𝑠𝑒)} $$\n",
    "$$ P(I|𝑓𝑟𝑎𝑠𝑒)= \\frac{P(𝑓𝑟𝑎𝑠𝑒|I) P(I)}{P(𝑓𝑟𝑎𝑠𝑒)} $$\n",
    "\n",
    "Essas duas probabilidades acima são utilizadas pelo classificador Naive Bayes para julgar a frase como relevante ou não.\n",
    "\n",
    "  $\\quad \\Rightarrow$ Se $P(R|𝑓𝑟𝑎𝑠𝑒) > P(I|𝑓𝑟𝑎𝑠𝑒)$, o comentário será classificado como **Relevante**.\n",
    "\n",
    "  $\\quad \\Rightarrow$ Se $P(R|𝑓𝑟𝑎𝑠𝑒) < P(I|𝑓𝑟𝑎𝑠𝑒)$, o comentário será classificado como **Irrelevante**.\n",
    "  \n",
    "Portanto, podemos dizer que as probabilidades de que o nosso classificador precisa encontrar são:\n",
    "\"Dada uma fase qual a probabilidade dela ser relevante?\" e \"Dado uma frase qual a probabilidade dela ser irrelevante?\".\n",
    "\n",
    " $$𝑃(𝑅|𝑓𝑟𝑎𝑠𝑒)$$\n",
    " $$𝑃(𝐼|𝑓𝑟𝑎𝑠𝑒)$$\n",
    " \n",
    "### Após a finalização deste projeto pretendemos construir um algoritimo que consiga tomar a decisão de agrupar uma frase como um assunto relevante ou não relevante de acordo com os três targets escolhidos sobre o tema proposto."
   ]
  },
  {
   "cell_type": "code",
   "execution_count": 159,
   "metadata": {},
   "outputs": [],
   "source": [
    "#Limpando o texto\n",
    "train[\"Mensagem\"] = train[\"Mensagem\"].apply(cleanup)\n",
    "train[\"Mensagem\"] = train[\"Mensagem\"].apply(unidecode)\n",
    "train[\"Mensagem\"] = train[\"Mensagem\"].apply(stopwords)\n",
    "words = train[\"Mensagem\"]\n",
    "stemmed_words = [stemmer.stem(word) for word in words]\n",
    "\n",
    "\n",
    "test['Mensagem'] = test[\"Mensagem\"].apply(cleanup)\n",
    "test['Mensagem'] = test[\"Mensagem\"].apply(unidecode)\n",
    "test[\"Mensagem\"] = test[\"Mensagem\"].apply(stopwords)\n",
    "words2 = test[\"Mensagem\"]\n",
    "stemmed_words2 = [stemmer.stem(word) for word in words2]\n"
   ]
  },
  {
   "cell_type": "code",
   "execution_count": 160,
   "metadata": {},
   "outputs": [],
   "source": [
    "#Localizando\n",
    "train_0 = train.loc[train[\"target\"]==0,:]\n",
    "train_1 = train.loc[train[\"target\"]==1,:]\n",
    "train_2 = train.loc[train[\"target\"]==2,:]\n",
    "\n",
    "test_0 = test.loc[test[\"target\"]==0,:]\n",
    "test_1 = test.loc[test[\"target\"]==1,:]\n",
    "test_2 = test.loc[test[\"target\"]==2,:]"
   ]
  },
  {
   "cell_type": "code",
   "execution_count": 161,
   "metadata": {},
   "outputs": [],
   "source": [
    "palavras_0_train = ''\n",
    "\n",
    "for n in train_0[\"Mensagem\"]:\n",
    "    palavras_0_train += ' ' + n\n",
    "\n",
    "lista_palavras_0_train = palavras_0_train.split()\n",
    "serie_palavras_0_train = pd.Series(lista_palavras_0_train)\n",
    "#Tabela absoluta\n",
    "tabela_absoluta_train_0 = serie_palavras_0_train.value_counts()\n",
    "#Tabela rlativa\n",
    "tabela_relativa_train_0 = serie_palavras_0_train.value_counts(True)"
   ]
  },
  {
   "cell_type": "code",
   "execution_count": 162,
   "metadata": {},
   "outputs": [],
   "source": [
    "palavras_1_train = ''\n",
    "\n",
    "for n in train_1[\"Mensagem\"]:\n",
    "    palavras_1_train += ' ' + n\n",
    "\n",
    "lista_palavras_1_train = palavras_1_train.split()\n",
    "serie_palavras_1_train = pd.Series(lista_palavras_1_train)\n",
    "#Tabela absoluta\n",
    "tabela_absoluta_train_1 = serie_palavras_1_train.value_counts()\n",
    "#Tabela rlativa\n",
    "tabela_relativa_train_1 = serie_palavras_1_train.value_counts(True)"
   ]
  },
  {
   "cell_type": "code",
   "execution_count": 163,
   "metadata": {},
   "outputs": [],
   "source": [
    "palavras_2_train = ''\n",
    "\n",
    "for n in train_2[\"Mensagem\"]:\n",
    "    palavras_2_train += ' ' + n\n",
    "\n",
    "lista_palavras_2_train = palavras_2_train.split()\n",
    "serie_palavras_2_train = pd.Series(lista_palavras_2_train)\n",
    "#Tabela absoluta\n",
    "tabela_absoluta_train_2 = serie_palavras_2_train.value_counts()\n",
    "#Tabela rlativa\n",
    "tabela_relativa_train_2 = serie_palavras_2_train.value_counts(True)"
   ]
  },
  {
   "cell_type": "code",
   "execution_count": 164,
   "metadata": {},
   "outputs": [],
   "source": [
    "#TOTAL\n",
    "lista_total_train = lista_palavras_0_train + lista_palavras_1_train + lista_palavras_2_train\n",
    "\n",
    "#SERIE TOTAL\n",
    "serie_total_train = pd.Series(lista_total_train)\n",
    "#Tabela asboluta\n",
    "tabela_absoluta_train_total = serie_total_train.value_counts()\n",
    "#Tabela relativa\n",
    "tabela_relativa_train_total = serie_total_train.value_counts(True)"
   ]
  },
  {
   "cell_type": "code",
   "execution_count": 165,
   "metadata": {},
   "outputs": [
    {
     "name": "stdout",
     "output_type": "stream",
     "text": [
      "0.2324391378508296\n",
      "0.4939137850829586\n",
      "0.27364707706621183\n"
     ]
    }
   ],
   "source": [
    "prob_palavras_0_train = len(serie_palavras_0_train)/len(serie_total_train)\n",
    "prob_palavras_1_train = len(serie_palavras_1_train)/len(serie_total_train)\n",
    "prob_palavras_2_train = len(serie_palavras_2_train)/len(serie_total_train)\n",
    "\n",
    "print(prob_palavras_0_train)\n",
    "print(prob_palavras_1_train)\n",
    "print(prob_palavras_2_train)"
   ]
  },
  {
   "cell_type": "markdown",
   "metadata": {},
   "source": [
    "## SUAVIZAÇÃO DE LAPLACE:\n",
    "\n",
    "O que ocorre se a palavra não estiver no conjunto universo?\n",
    "No caso de aparecer uma palavra que não esteja em nossa base de dados, precisaremos amplificar nosso leque de equações utilizando a Suavização de Laplace, que inclui a nova palavra \"estranha\" nas palavras classificadas como relevantes ou irrelevantes.\n",
    "\n",
    "Para que isso seja possível, devemos ver quantas vezes a palavra analisada aparece na comparação em questão, seja relevante ou irrelavante, somar uma unidade (que evita o 0) no numerador, e somar a quantidade de \"possíveis palavras no denominador\", isto é a quantidade de palavras únicas pertencentes ao dataset de frases relevantes ou irrelevantes. \n",
    "\n",
    "$$P(palavra1|R) = \\frac{F_{aR}+1}{P_{R}+P_p}$$\n",
    "\n",
    "$$P(palavra1|I) = \\frac{F_{aI}+1}{P_{I}+P_p}$$\n",
    "\n",
    "Onde: \n",
    "\n",
    "$ F_{aR}$: Frequência absoluta da palavra na categoria relevante \n",
    "\n",
    "$ F_{aI}$: Frequência absoluta da palavra na categoria irrelevante \n",
    "    \n",
    "$P_{R}$: Todas as palavras pertencentes aos tweets rotulados como relevantes\n",
    "    \n",
    "$P_{I}$: Todas as palavras pertencentes aos tweets rotulados como irrelevantes\n",
    "\n",
    "$P_p$: Todas as palavras possíveis na base de dados de treinamento\n",
    "\n",
    "### Após essas alterações temos agora as probabilidades $P(frases|R)$ e $P(frases|I)$ adequadas para receber as novas palavras."
   ]
  },
  {
   "cell_type": "code",
   "execution_count": 166,
   "metadata": {},
   "outputs": [],
   "source": [
    "def laplace(palavra,freq_abs,serie_total):\n",
    "    if palavra not in freq_abs:\n",
    "        frequencia_da_palavra_categoria=1/(sum(freq_abs)+len(serie_total))\n",
    "    else:\n",
    "        frequencia_da_palavra_categoria=freq_abs[palavra]\n",
    "    Prob_palavra_dada_cat=(1+frequencia_da_palavra_categoria)/(sum(freq_abs)+len(serie_total))\n",
    "    return Prob_palavra_dada_cat"
   ]
  },
  {
   "cell_type": "code",
   "execution_count": 167,
   "metadata": {},
   "outputs": [],
   "source": [
    "def naives(titulos,prob_pp_neutras,prob_pp_altas,prob_pp_baixas):\n",
    "    listaaaa = []\n",
    "    lista_classificadora=[]\n",
    "    for noticia_titulo in titulos:\n",
    "        palavras=noticia_titulo.split()\n",
    "\n",
    "        prob_neutras_noticia=1\n",
    "        prob_altas_noticia=1\n",
    "        prob_baixas_noticia=1\n",
    "\n",
    "        for palavra in palavras:\n",
    "            prob_neutras_noticia=prob_neutras_noticia*laplace(palavra, tabela_absoluta_train_0, serie_total_train)\n",
    "            prob_altas_noticia=prob_altas_noticia*laplace(palavra, tabela_absoluta_train_1, serie_total_train)\n",
    "            prob_baixas_noticia=prob_baixas_noticia*laplace(palavra, tabela_absoluta_train_2, serie_total_train)\n",
    "            \n",
    "        \n",
    "        prob_neutras_noticia=prob_neutras_noticia*prob_pp_neutras\n",
    "        prob_altas_noticia=prob_altas_noticia*prob_pp_altas\n",
    "        prob_baixas_noticia=prob_baixas_noticia*prob_pp_baixas\n",
    "\n",
    "        if prob_neutras_noticia>prob_altas_noticia and prob_neutras_noticia>prob_baixas_noticia:\n",
    "            lista_classificadora.append(0)\n",
    "        elif prob_altas_noticia>prob_neutras_noticia and prob_altas_noticia>prob_baixas_noticia:\n",
    "            lista_classificadora.append(1)\n",
    "        elif prob_baixas_noticia>prob_altas_noticia and prob_baixas_noticia>prob_neutras_noticia:\n",
    "            lista_classificadora.append(2)\n",
    "    return lista_classificadora"
   ]
  },
  {
   "cell_type": "code",
   "execution_count": 168,
   "metadata": {},
   "outputs": [
    {
     "name": "stdout",
     "output_type": "stream",
     "text": [
      "[1, 2, 1, 2, 2, 1, 1, 1, 1, 1, 2, 1, 2, 1, 2, 2, 1, 1, 2, 1, 0, 1, 1, 1, 1, 2, 1, 1, 1, 1, 1, 1, 2, 1, 1, 1, 2, 1, 1, 1, 2, 2, 1, 1, 1, 1, 2, 1, 1, 1, 1, 1, 2, 1, 1, 2, 2, 1, 2, 1, 1, 2, 1, 1, 1, 2, 1, 2, 1, 1, 1, 1, 1, 1, 1, 1, 1, 1, 2, 1, 1, 1, 1, 1, 2, 1, 2, 2, 1, 2, 1, 2, 1, 1, 1, 1, 2, 1, 2, 2, 1, 2, 2, 1, 1, 1, 1, 1, 1, 1, 1, 1, 1, 1, 1, 1, 2, 2, 2, 1, 1, 1, 1, 1, 2, 2, 1, 1, 2, 1, 1, 1, 2, 2, 1, 1, 1, 2, 2, 2, 1, 0, 1, 1, 1, 1, 1, 1, 1, 1, 1, 1, 1, 1, 2, 1, 1, 1, 2, 1, 2, 0, 2, 2, 1, 1, 2, 2, 1, 0, 1, 2, 1, 1, 1, 1, 2, 1, 1, 2, 2, 2, 2, 1, 1, 2, 2, 1, 1, 1, 2, 1, 1, 2, 1, 2, 1, 1, 1, 1, 1, 2, 2, 1, 1, 2, 1, 1, 1, 2, 1, 1, 2, 2, 1, 1, 2, 1, 1, 2, 1, 2, 1, 1, 1, 1, 2, 1, 2, 1, 1, 1]\n"
     ]
    }
   ],
   "source": [
    "tabela_classificadora=naives(test['Mensagem'],prob_palavras_0_train,prob_palavras_1_train,prob_palavras_2_train)\n",
    "series_lista_classificadora=pd.Series(tabela_classificadora)\n",
    "tabela_class_rel=series_lista_classificadora.value_counts(True)\n",
    "tabela_class_abs=series_lista_classificadora.value_counts()\n",
    "print(tabela_classificadora)"
   ]
  },
  {
   "cell_type": "code",
   "execution_count": 169,
   "metadata": {},
   "outputs": [],
   "source": [
    "def plot_heatmap(cross_table, fmt='g'):\n",
    "    fig, ax = plt.subplots(figsize=(8, 5))\n",
    "    sns.heatmap(cross_table,\n",
    "                annot=True,\n",
    "                fmt=fmt,\n",
    "                cmap='rocket_r',\n",
    "                linewidths=.5,\n",
    "                ax=ax)\n",
    "    plt.show();"
   ]
  },
  {
   "cell_type": "code",
   "execution_count": 170,
   "metadata": {},
   "outputs": [
    {
     "data": {
      "text/html": [
       "<div>\n",
       "<style scoped>\n",
       "    .dataframe tbody tr th:only-of-type {\n",
       "        vertical-align: middle;\n",
       "    }\n",
       "\n",
       "    .dataframe tbody tr th {\n",
       "        vertical-align: top;\n",
       "    }\n",
       "\n",
       "    .dataframe thead th {\n",
       "        text-align: right;\n",
       "    }\n",
       "</style>\n",
       "<table border=\"1\" class=\"dataframe\">\n",
       "  <thead>\n",
       "    <tr style=\"text-align: right;\">\n",
       "      <th>col_0</th>\n",
       "      <th>0</th>\n",
       "      <th>1</th>\n",
       "      <th>2</th>\n",
       "    </tr>\n",
       "    <tr>\n",
       "      <th>target</th>\n",
       "      <th></th>\n",
       "      <th></th>\n",
       "      <th></th>\n",
       "    </tr>\n",
       "  </thead>\n",
       "  <tbody>\n",
       "    <tr>\n",
       "      <th>0</th>\n",
       "      <td>1</td>\n",
       "      <td>33</td>\n",
       "      <td>20</td>\n",
       "    </tr>\n",
       "    <tr>\n",
       "      <th>1</th>\n",
       "      <td>2</td>\n",
       "      <td>70</td>\n",
       "      <td>24</td>\n",
       "    </tr>\n",
       "    <tr>\n",
       "      <th>2</th>\n",
       "      <td>1</td>\n",
       "      <td>53</td>\n",
       "      <td>28</td>\n",
       "    </tr>\n",
       "  </tbody>\n",
       "</table>\n",
       "</div>"
      ],
      "text/plain": [
       "col_0   0   1   2\n",
       "target           \n",
       "0       1  33  20\n",
       "1       2  70  24\n",
       "2       1  53  28"
      ]
     },
     "execution_count": 170,
     "metadata": {},
     "output_type": "execute_result"
    }
   ],
   "source": [
    "tabela = pd.crosstab(test['target'], series_lista_classificadora)\n",
    "tabela"
   ]
  },
  {
   "cell_type": "markdown",
   "metadata": {},
   "source": [
    "___\n",
    "### Verificando a performance do Classificador\n",
    "\n",
    "Agora você deve testar o seu classificador com a base de Testes."
   ]
  },
  {
   "cell_type": "code",
   "execution_count": 171,
   "metadata": {},
   "outputs": [
    {
     "data": {
      "image/png": "[encoded data removed]",
      "text/plain": [
       "<Figure size 800x500 with 2 Axes>"
      ]
     },
     "metadata": {},
     "output_type": "display_data"
    }
   ],
   "source": [
    "cross = pd.crosstab(index=test['target'],\n",
    "                    columns=series_lista_classificadora,\n",
    "                    normalize='index')\n",
    "plot_heatmap(cross, fmt='.2%')"
   ]
  },
  {
   "cell_type": "code",
   "execution_count": 172,
   "metadata": {},
   "outputs": [
    {
     "data": {
      "text/plain": [
       "0      2.0\n",
       "1      2.0\n",
       "2      1.0\n",
       "3      1.0\n",
       "4      0.0\n",
       "      ... \n",
       "245    0.0\n",
       "246    2.0\n",
       "247    0.0\n",
       "248    0.0\n",
       "249    0.0\n",
       "Name: target, Length: 995, dtype: float64"
      ]
     },
     "execution_count": 172,
     "metadata": {},
     "output_type": "execute_result"
    }
   ],
   "source": [
    "#Concatenando\n",
    "total = pd.concat([train,test])\n",
    "\n",
    "#Limpando os frases\n",
    "total['Mensagem'] = total['Mensagem'].apply(cleanup)\n",
    "total['Mensagem'] = total['Mensagem'].apply(stopwords)\n",
    "total.target"
   ]
  },
  {
   "cell_type": "markdown",
   "metadata": {},
   "source": [
    "___\n",
    "### Qualidade do Classificador a partir de novas separações dos tweets entre Treinamento e Teste\n",
    "\n",
    "Caso for fazer esse item do Projeto"
   ]
  },
  {
   "cell_type": "code",
   "execution_count": 173,
   "metadata": {},
   "outputs": [
    {
     "name": "stdout",
     "output_type": "stream",
     "text": [
      "\n",
      "Porcentagem de neutros verdadeiros:  1.85%.\n",
      "Porcentagem de falsos neutros:  98.15%.\n",
      "\n",
      "\n",
      "Porcentagem de comentarios sobre o autor verdadeiros:  72.92%.\n",
      "Porcentagem de falsos comentarios sobre o autor:  27.08%.\n",
      "\n",
      "\n",
      "Porcentagem de comentarios sobre a plataforma/edição verdadeiros:  34.15%.\n",
      "Porcentagem de falsos comentarios sobre a plataforma/edição:  65.85%.\n",
      "\n",
      "\n",
      "Acurácia do Classificador (Porcentagem de positivos/ Total):  42.67%.\n",
      "\n"
     ]
    }
   ],
   "source": [
    "p_true = tabela.loc[0, 0]\n",
    "p_false = tabela.loc[0, 1] + tabela.loc[0, 2]\n",
    "print(f'''\n",
    "Porcentagem de neutros verdadeiros: {p_true/(p_true+p_false)*100: .2f}%.\n",
    "Porcentagem de falsos neutros: {p_false/(p_true+p_false)*100: .2f}%.\n",
    "''')\n",
    "\n",
    "\n",
    "neg_true = tabela.loc[1, 1]\n",
    "neg_false = tabela.loc[1, 0] + tabela.loc[1, 2]\n",
    "print(f'''\n",
    "Porcentagem de comentarios sobre o autor verdadeiros: {neg_true/(neg_true+neg_false)*100: .2f}%.\n",
    "Porcentagem de falsos comentarios sobre o autor: {neg_false/(neg_true+neg_false)*100: .2f}%.\n",
    "''')\n",
    "\n",
    "\n",
    "ntr_true = tabela.loc[2, 2]\n",
    "ntr_false = tabela.loc[2, 0] + tabela.loc[2, 1]\n",
    "print(f'''\n",
    "Porcentagem de comentarios sobre a plataforma/edição verdadeiros: {ntr_true/(ntr_true+ntr_false)*100: .2f}%.\n",
    "Porcentagem de falsos comentarios sobre a plataforma/edição: {ntr_false/(ntr_true+ntr_false)*100: .2f}%.\n",
    "''')\n",
    "\n",
    "\n",
    "acurace = (p_true + neg_true + ntr_true)/(p_false + neg_false + ntr_false + p_true + neg_true + ntr_true)\n",
    "print(f'''\n",
    "Acurácia do Classificador (Porcentagem de positivos/ Total): {acurace*100: .2f}%.\n",
    "''')"
   ]
  },
  {
   "cell_type": "markdown",
   "metadata": {},
   "source": [
    "___\n",
    "### Concluindo"
   ]
  },
  {
   "cell_type": "markdown",
   "metadata": {},
   "source": [
    "### Exatidão do classificador:\n",
    "Dado o tema e os targets escolhidos, o classificador tem dificuldade de classificar com exatidão os comentário, principalmente no que se refere às neutras, que nesse caso não possuem um padrão claro, sendo apenas \"não relacionadas ao livro\" e \"não relacionadas à plataforma/edição\". Por isso, a sua acurácia é bastante baixa.\n",
    "\n",
    "### Concluindo:\n",
    "No classificador automático criado, que tem por objetivo classificar os comentários como 1 = Crítica construtiva ao livro, 2 = Crítica construtiva à edição/plataforma e 0 = Nenhum dos dois, há uma acurácia de 42,67%, que é relativamente baixa. Isso ocorre porque a própria classificação dos comentários é subjetiva, não havendo nem mesmo na classificação manual uma definição exata. Sendo assim, quando se trata de definir qual a classificação, o classificador absorve a dificuldade humana. E, uma vez que o classificador é uma simplificação do processo real, ele se torna ainda mais inexato. Ademais, tendo em vista que as classificações são \"livro\", \"plataforma\" e \"nem um dos dois\", a terceira classificação não possui um padrão exato de palavras, podendo envolver qualquer coisa que NÃO tenha haver com os outros, o que torna a classificação do neutro altamente ineficiente, haja visto que tal classificação é feita exatamente com as PALAVRAS presentes no comentário.\n",
    "\n",
    "\n",
    "### Possíveis melhorias do projeto:\n",
    "O classificador Naive-Bayes é ingênuo quando se trata de interpretar frases complexas, irônicas e com dupla negação. Para que a classificação fosse melhor executada deveríamos modificar algumas frases que possuíssem ironia e dupla negação para que o classificador possa interpretar melhor o contexto daquela frase!\n",
    "Como dito antes, o classificador leva em conta as palavras de forma individual, o que faz com que o significado conjunto delas seja prejudicado. Dessa forma, uma outra possível melhoria seria tornar o código capaz de calcular as ocorrências conjuntas, levando em conta o significado semântico e gramatical.\n",
    "\n",
    "Uma base de dados maior poderia ser usada, de forma que obtivesse uma informação mais clara no que diz respeito à ocorrência de palavras em cada target, diminuindo assim a imprecisão inerente à definições subjetivas."
   ]
  },
  {
   "cell_type": "markdown",
   "metadata": {},
   "source": [
    "___\n",
    "## Aperfeiçoamento:\n",
    "\n",
    "Trabalhos que conseguirem pelo menos conceito B vão evoluir em conceito dependendo da quantidade de itens avançados:\n",
    "\n",
    "* IMPLEMENTOU outras limpezas e transformações que não afetem a qualidade da informação contida nos tweets. Ex: stemming, lemmatization, stopwords\n",
    "* CONSIDEROU mais de duas categorias na variável Target e INCREMENTOU a quantidade de notícias, mantendo pelo menos 250 notícias por categoria (OBRIGATÓRIO PARA TRIOS, sem contar como item avançado)\n",
    "* Para Target com duas categorias: CRIOU pelo menos quatro categorias intermediárias de relevância baseadas na probabilidade: ex.: muito relevante, relevante, neutro, irrelevante, muito irrelevante\n",
    "* EXPLICOU porquê não pode usar o próprio classificador para gerar mais amostras de treinamento\n",
    "* PROPÔS diferentes cenários para Naïve Bayes fora do contexto do projeto (pelo menos dois cenários, exceto aqueles já apresentados em sala pelos professores: por exemplo, filtro de spam)\n",
    "* SUGERIU e EXPLICOU melhorias reais com indicações concretas de como implementar (indicar como fazer e indicar material de pesquisa)\n",
    "* FEZ o item Qualidade do Classificador a partir de novas separações das Notícias entre Treinamento e Teste descrito no enunciado do projeto (OBRIGATÓRIO para conceitos A ou A+)"
   ]
  },
  {
   "cell_type": "markdown",
   "metadata": {},
   "source": [
    "___\n",
    "## Referências"
   ]
  },
  {
   "cell_type": "markdown",
   "metadata": {},
   "source": [
    "[Naive Bayes and Text Classification](https://arxiv.org/pdf/1410.5329.pdf)  **Mais completo**\n",
    "\n",
    "[A practical explanation of a Naive Bayes Classifier](https://monkeylearn.com/blog/practical-explanation-naive-bayes-classifier/) **Mais simples**"
   ]
  }
 ],
 "metadata": {
  "kernelspec": {
   "display_name": "Python 3",
   "language": "python",
   "name": "python3"
  },
  "language_info": {
   "codemirror_mode": {
    "name": "ipython",
    "version": 3
   },
   "file_extension": ".py",
   "mimetype": "text/x-python",
   "name": "python",
   "nbconvert_exporter": "python",
   "pygments_lexer": "ipython3",
   "version": "3.9.13"
  }
 },
 "nbformat": 4,
 "nbformat_minor": 4
}
